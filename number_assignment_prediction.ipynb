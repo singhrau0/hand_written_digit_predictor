{
 "cells": [
  {
   "cell_type": "markdown",
   "id": "ae4a846c",
   "metadata": {},
   "source": [
    "# Creating image Recognition Model"
   ]
  },
  {
   "cell_type": "code",
   "execution_count": 1,
   "id": "e06fdc8f",
   "metadata": {},
   "outputs": [
    {
     "ename": "ModuleNotFoundError",
     "evalue": "No module named 'tensorflow'",
     "output_type": "error",
     "traceback": [
      "\u001b[1;31m---------------------------------------------------------------------------\u001b[0m",
      "\u001b[1;31mModuleNotFoundError\u001b[0m                       Traceback (most recent call last)",
      "\u001b[1;32m<ipython-input-1-a95cdad765f0>\u001b[0m in \u001b[0;36m<module>\u001b[1;34m\u001b[0m\n\u001b[1;32m----> 1\u001b[1;33m \u001b[1;32mfrom\u001b[0m \u001b[0mtensorflow\u001b[0m \u001b[1;32mimport\u001b[0m \u001b[0mkeras\u001b[0m\u001b[1;33m\u001b[0m\u001b[1;33m\u001b[0m\u001b[0m\n\u001b[0m",
      "\u001b[1;31mModuleNotFoundError\u001b[0m: No module named 'tensorflow'"
     ]
    }
   ],
   "source": [
    "from tensorflow import keras"
   ]
  },
  {
   "cell_type": "code",
   "execution_count": 9,
   "id": "e5bad683",
   "metadata": {},
   "outputs": [],
   "source": [
    "import tensorflow as tf"
   ]
  },
  {
   "cell_type": "code",
   "execution_count": 10,
   "id": "d04ab382",
   "metadata": {},
   "outputs": [],
   "source": [
    "digit_mnist = keras.datasets.mnist"
   ]
  },
  {
   "cell_type": "code",
   "execution_count": 13,
   "id": "ba9a260d",
   "metadata": {},
   "outputs": [],
   "source": [
    "(x_train_full,y_train_full),(x_test,y_test) = digit_mnist.load_data()"
   ]
  },
  {
   "cell_type": "code",
   "execution_count": 16,
   "id": "7cc5e0f9",
   "metadata": {},
   "outputs": [],
   "source": [
    "import matplotlib.pyplot as plt"
   ]
  },
  {
   "cell_type": "code",
   "execution_count": 26,
   "id": "12127435",
   "metadata": {},
   "outputs": [
    {
     "data": {
      "text/plain": [
       "<matplotlib.image.AxesImage at 0x1d20feb1160>"
      ]
     },
     "execution_count": 26,
     "metadata": {},
     "output_type": "execute_result"
    },
    {
     "data": {
      "image/png": "[encoded data removed]",
      "text/plain": [
       "<Figure size 432x288 with 1 Axes>"
      ]
     },
     "metadata": {
      "needs_background": "light"
     },
     "output_type": "display_data"
    }
   ],
   "source": [
    "plt.imshow(x_train_full[11])"
   ]
  },
  {
   "cell_type": "code",
   "execution_count": 21,
   "id": "6fae9488",
   "metadata": {},
   "outputs": [
    {
     "data": {
      "text/plain": [
       "5"
      ]
     },
     "execution_count": 21,
     "metadata": {},
     "output_type": "execute_result"
    }
   ],
   "source": [
    "y_train_full[0]"
   ]
  },
  {
   "cell_type": "code",
   "execution_count": 22,
   "id": "4049ebae",
   "metadata": {},
   "outputs": [
    {
     "data": {
      "text/plain": [
       "array([[  0,   0,   0,   0,   0,   0,   0,   0,   0,   0,   0,   0,   0,\n",
       "          0,   0,   0,   0,   0,   0,   0,   0,   0,   0,   0,   0,   0,\n",
       "          0,   0],\n",
       "       [  0,   0,   0,   0,   0,   0,   0,   0,   0,   0,   0,   0,   0,\n",
       "          0,   0,   0,   0,   0,   0,   0,   0,   0,   0,   0,   0,   0,\n",
       "          0,   0],\n",
       "       [  0,   0,   0,   0,   0,   0,   0,   0,   0,   0,   0,   0,   0,\n",
       "          0,   0,   0,   0,   0,   0,   0,   0,   0,   0,   0,   0,   0,\n",
       "          0,   0],\n",
       "       [  0,   0,   0,   0,   0,   0,   0,   0,   0,   0,   0,   0,   0,\n",
       "          0,   0,   0,   0,   0,   0,   0,   0,   0,   0,   0,   0,   0,\n",
       "          0,   0],\n",
       "       [  0,   0,   0,   0,   0,   0,   0,   0,   0,   0,   0,   0,   0,\n",
       "          0,   0,   0,   0,   0,   0,   0,   0,   0,   0,   0,   0,   0,\n",
       "          0,   0],\n",
       "       [  0,   0,   0,   0,   0,   0,   0,   0,   0,   0,   0,   0,   3,\n",
       "         18,  18,  18, 126, 136, 175,  26, 166, 255, 247, 127,   0,   0,\n",
       "          0,   0],\n",
       "       [  0,   0,   0,   0,   0,   0,   0,   0,  30,  36,  94, 154, 170,\n",
       "        253, 253, 253, 253, 253, 225, 172, 253, 242, 195,  64,   0,   0,\n",
       "          0,   0],\n",
       "       [  0,   0,   0,   0,   0,   0,   0,  49, 238, 253, 253, 253, 253,\n",
       "        253, 253, 253, 253, 251,  93,  82,  82,  56,  39,   0,   0,   0,\n",
       "          0,   0],\n",
       "       [  0,   0,   0,   0,   0,   0,   0,  18, 219, 253, 253, 253, 253,\n",
       "        253, 198, 182, 247, 241,   0,   0,   0,   0,   0,   0,   0,   0,\n",
       "          0,   0],\n",
       "       [  0,   0,   0,   0,   0,   0,   0,   0,  80, 156, 107, 253, 253,\n",
       "        205,  11,   0,  43, 154,   0,   0,   0,   0,   0,   0,   0,   0,\n",
       "          0,   0],\n",
       "       [  0,   0,   0,   0,   0,   0,   0,   0,   0,  14,   1, 154, 253,\n",
       "         90,   0,   0,   0,   0,   0,   0,   0,   0,   0,   0,   0,   0,\n",
       "          0,   0],\n",
       "       [  0,   0,   0,   0,   0,   0,   0,   0,   0,   0,   0, 139, 253,\n",
       "        190,   2,   0,   0,   0,   0,   0,   0,   0,   0,   0,   0,   0,\n",
       "          0,   0],\n",
       "       [  0,   0,   0,   0,   0,   0,   0,   0,   0,   0,   0,  11, 190,\n",
       "        253,  70,   0,   0,   0,   0,   0,   0,   0,   0,   0,   0,   0,\n",
       "          0,   0],\n",
       "       [  0,   0,   0,   0,   0,   0,   0,   0,   0,   0,   0,   0,  35,\n",
       "        241, 225, 160, 108,   1,   0,   0,   0,   0,   0,   0,   0,   0,\n",
       "          0,   0],\n",
       "       [  0,   0,   0,   0,   0,   0,   0,   0,   0,   0,   0,   0,   0,\n",
       "         81, 240, 253, 253, 119,  25,   0,   0,   0,   0,   0,   0,   0,\n",
       "          0,   0],\n",
       "       [  0,   0,   0,   0,   0,   0,   0,   0,   0,   0,   0,   0,   0,\n",
       "          0,  45, 186, 253, 253, 150,  27,   0,   0,   0,   0,   0,   0,\n",
       "          0,   0],\n",
       "       [  0,   0,   0,   0,   0,   0,   0,   0,   0,   0,   0,   0,   0,\n",
       "          0,   0,  16,  93, 252, 253, 187,   0,   0,   0,   0,   0,   0,\n",
       "          0,   0],\n",
       "       [  0,   0,   0,   0,   0,   0,   0,   0,   0,   0,   0,   0,   0,\n",
       "          0,   0,   0,   0, 249, 253, 249,  64,   0,   0,   0,   0,   0,\n",
       "          0,   0],\n",
       "       [  0,   0,   0,   0,   0,   0,   0,   0,   0,   0,   0,   0,   0,\n",
       "          0,  46, 130, 183, 253, 253, 207,   2,   0,   0,   0,   0,   0,\n",
       "          0,   0],\n",
       "       [  0,   0,   0,   0,   0,   0,   0,   0,   0,   0,   0,   0,  39,\n",
       "        148, 229, 253, 253, 253, 250, 182,   0,   0,   0,   0,   0,   0,\n",
       "          0,   0],\n",
       "       [  0,   0,   0,   0,   0,   0,   0,   0,   0,   0,  24, 114, 221,\n",
       "        253, 253, 253, 253, 201,  78,   0,   0,   0,   0,   0,   0,   0,\n",
       "          0,   0],\n",
       "       [  0,   0,   0,   0,   0,   0,   0,   0,  23,  66, 213, 253, 253,\n",
       "        253, 253, 198,  81,   2,   0,   0,   0,   0,   0,   0,   0,   0,\n",
       "          0,   0],\n",
       "       [  0,   0,   0,   0,   0,   0,  18, 171, 219, 253, 253, 253, 253,\n",
       "        195,  80,   9,   0,   0,   0,   0,   0,   0,   0,   0,   0,   0,\n",
       "          0,   0],\n",
       "       [  0,   0,   0,   0,  55, 172, 226, 253, 253, 253, 253, 244, 133,\n",
       "         11,   0,   0,   0,   0,   0,   0,   0,   0,   0,   0,   0,   0,\n",
       "          0,   0],\n",
       "       [  0,   0,   0,   0, 136, 253, 253, 253, 212, 135, 132,  16,   0,\n",
       "          0,   0,   0,   0,   0,   0,   0,   0,   0,   0,   0,   0,   0,\n",
       "          0,   0],\n",
       "       [  0,   0,   0,   0,   0,   0,   0,   0,   0,   0,   0,   0,   0,\n",
       "          0,   0,   0,   0,   0,   0,   0,   0,   0,   0,   0,   0,   0,\n",
       "          0,   0],\n",
       "       [  0,   0,   0,   0,   0,   0,   0,   0,   0,   0,   0,   0,   0,\n",
       "          0,   0,   0,   0,   0,   0,   0,   0,   0,   0,   0,   0,   0,\n",
       "          0,   0],\n",
       "       [  0,   0,   0,   0,   0,   0,   0,   0,   0,   0,   0,   0,   0,\n",
       "          0,   0,   0,   0,   0,   0,   0,   0,   0,   0,   0,   0,   0,\n",
       "          0,   0]], dtype=uint8)"
      ]
     },
     "execution_count": 22,
     "metadata": {},
     "output_type": "execute_result"
    }
   ],
   "source": [
    "x_train_full[0]"
   ]
  },
  {
   "cell_type": "code",
   "execution_count": 23,
   "id": "03475d18",
   "metadata": {},
   "outputs": [],
   "source": [
    "x_train_n = x_train_full/255.0\n",
    "x_test_n = x_test/255.0"
   ]
  },
  {
   "cell_type": "code",
   "execution_count": 24,
   "id": "2baa2758",
   "metadata": {},
   "outputs": [
    {
     "data": {
      "text/plain": [
       "array([[0.        , 0.        , 0.        , 0.        , 0.        ,\n",
       "        0.        , 0.        , 0.        , 0.        , 0.        ,\n",
       "        0.        , 0.        , 0.        , 0.        , 0.        ,\n",
       "        0.        , 0.        , 0.        , 0.        , 0.        ,\n",
       "        0.        , 0.        , 0.        , 0.        , 0.        ,\n",
       "        0.        , 0.        , 0.        ],\n",
       "       [0.        , 0.        , 0.        , 0.        , 0.        ,\n",
       "        0.        , 0.        , 0.        , 0.        , 0.        ,\n",
       "        0.        , 0.        , 0.        , 0.        , 0.        ,\n",
       "        0.        , 0.        , 0.        , 0.        , 0.        ,\n",
       "        0.        , 0.        , 0.        , 0.        , 0.        ,\n",
       "        0.        , 0.        , 0.        ],\n",
       "       [0.        , 0.        , 0.        , 0.        , 0.        ,\n",
       "        0.        , 0.        , 0.        , 0.        , 0.        ,\n",
       "        0.        , 0.        , 0.        , 0.        , 0.        ,\n",
       "        0.        , 0.        , 0.        , 0.        , 0.        ,\n",
       "        0.        , 0.        , 0.        , 0.        , 0.        ,\n",
       "        0.        , 0.        , 0.        ],\n",
       "       [0.        , 0.        , 0.        , 0.        , 0.        ,\n",
       "        0.        , 0.        , 0.        , 0.        , 0.        ,\n",
       "        0.        , 0.        , 0.        , 0.        , 0.        ,\n",
       "        0.        , 0.        , 0.        , 0.        , 0.        ,\n",
       "        0.        , 0.        , 0.        , 0.        , 0.        ,\n",
       "        0.        , 0.        , 0.        ],\n",
       "       [0.        , 0.        , 0.        , 0.        , 0.        ,\n",
       "        0.        , 0.        , 0.        , 0.        , 0.        ,\n",
       "        0.        , 0.        , 0.        , 0.        , 0.        ,\n",
       "        0.        , 0.        , 0.        , 0.        , 0.        ,\n",
       "        0.        , 0.        , 0.        , 0.        , 0.        ,\n",
       "        0.        , 0.        , 0.        ],\n",
       "       [0.        , 0.        , 0.        , 0.        , 0.        ,\n",
       "        0.        , 0.        , 0.        , 0.        , 0.        ,\n",
       "        0.        , 0.        , 0.01176471, 0.07058824, 0.07058824,\n",
       "        0.07058824, 0.49411765, 0.53333333, 0.68627451, 0.10196078,\n",
       "        0.65098039, 1.        , 0.96862745, 0.49803922, 0.        ,\n",
       "        0.        , 0.        , 0.        ],\n",
       "       [0.        , 0.        , 0.        , 0.        , 0.        ,\n",
       "        0.        , 0.        , 0.        , 0.11764706, 0.14117647,\n",
       "        0.36862745, 0.60392157, 0.66666667, 0.99215686, 0.99215686,\n",
       "        0.99215686, 0.99215686, 0.99215686, 0.88235294, 0.6745098 ,\n",
       "        0.99215686, 0.94901961, 0.76470588, 0.25098039, 0.        ,\n",
       "        0.        , 0.        , 0.        ],\n",
       "       [0.        , 0.        , 0.        , 0.        , 0.        ,\n",
       "        0.        , 0.        , 0.19215686, 0.93333333, 0.99215686,\n",
       "        0.99215686, 0.99215686, 0.99215686, 0.99215686, 0.99215686,\n",
       "        0.99215686, 0.99215686, 0.98431373, 0.36470588, 0.32156863,\n",
       "        0.32156863, 0.21960784, 0.15294118, 0.        , 0.        ,\n",
       "        0.        , 0.        , 0.        ],\n",
       "       [0.        , 0.        , 0.        , 0.        , 0.        ,\n",
       "        0.        , 0.        , 0.07058824, 0.85882353, 0.99215686,\n",
       "        0.99215686, 0.99215686, 0.99215686, 0.99215686, 0.77647059,\n",
       "        0.71372549, 0.96862745, 0.94509804, 0.        , 0.        ,\n",
       "        0.        , 0.        , 0.        , 0.        , 0.        ,\n",
       "        0.        , 0.        , 0.        ],\n",
       "       [0.        , 0.        , 0.        , 0.        , 0.        ,\n",
       "        0.        , 0.        , 0.        , 0.31372549, 0.61176471,\n",
       "        0.41960784, 0.99215686, 0.99215686, 0.80392157, 0.04313725,\n",
       "        0.        , 0.16862745, 0.60392157, 0.        , 0.        ,\n",
       "        0.        , 0.        , 0.        , 0.        , 0.        ,\n",
       "        0.        , 0.        , 0.        ],\n",
       "       [0.        , 0.        , 0.        , 0.        , 0.        ,\n",
       "        0.        , 0.        , 0.        , 0.        , 0.05490196,\n",
       "        0.00392157, 0.60392157, 0.99215686, 0.35294118, 0.        ,\n",
       "        0.        , 0.        , 0.        , 0.        , 0.        ,\n",
       "        0.        , 0.        , 0.        , 0.        , 0.        ,\n",
       "        0.        , 0.        , 0.        ],\n",
       "       [0.        , 0.        , 0.        , 0.        , 0.        ,\n",
       "        0.        , 0.        , 0.        , 0.        , 0.        ,\n",
       "        0.        , 0.54509804, 0.99215686, 0.74509804, 0.00784314,\n",
       "        0.        , 0.        , 0.        , 0.        , 0.        ,\n",
       "        0.        , 0.        , 0.        , 0.        , 0.        ,\n",
       "        0.        , 0.        , 0.        ],\n",
       "       [0.        , 0.        , 0.        , 0.        , 0.        ,\n",
       "        0.        , 0.        , 0.        , 0.        , 0.        ,\n",
       "        0.        , 0.04313725, 0.74509804, 0.99215686, 0.2745098 ,\n",
       "        0.        , 0.        , 0.        , 0.        , 0.        ,\n",
       "        0.        , 0.        , 0.        , 0.        , 0.        ,\n",
       "        0.        , 0.        , 0.        ],\n",
       "       [0.        , 0.        , 0.        , 0.        , 0.        ,\n",
       "        0.        , 0.        , 0.        , 0.        , 0.        ,\n",
       "        0.        , 0.        , 0.1372549 , 0.94509804, 0.88235294,\n",
       "        0.62745098, 0.42352941, 0.00392157, 0.        , 0.        ,\n",
       "        0.        , 0.        , 0.        , 0.        , 0.        ,\n",
       "        0.        , 0.        , 0.        ],\n",
       "       [0.        , 0.        , 0.        , 0.        , 0.        ,\n",
       "        0.        , 0.        , 0.        , 0.        , 0.        ,\n",
       "        0.        , 0.        , 0.        , 0.31764706, 0.94117647,\n",
       "        0.99215686, 0.99215686, 0.46666667, 0.09803922, 0.        ,\n",
       "        0.        , 0.        , 0.        , 0.        , 0.        ,\n",
       "        0.        , 0.        , 0.        ],\n",
       "       [0.        , 0.        , 0.        , 0.        , 0.        ,\n",
       "        0.        , 0.        , 0.        , 0.        , 0.        ,\n",
       "        0.        , 0.        , 0.        , 0.        , 0.17647059,\n",
       "        0.72941176, 0.99215686, 0.99215686, 0.58823529, 0.10588235,\n",
       "        0.        , 0.        , 0.        , 0.        , 0.        ,\n",
       "        0.        , 0.        , 0.        ],\n",
       "       [0.        , 0.        , 0.        , 0.        , 0.        ,\n",
       "        0.        , 0.        , 0.        , 0.        , 0.        ,\n",
       "        0.        , 0.        , 0.        , 0.        , 0.        ,\n",
       "        0.0627451 , 0.36470588, 0.98823529, 0.99215686, 0.73333333,\n",
       "        0.        , 0.        , 0.        , 0.        , 0.        ,\n",
       "        0.        , 0.        , 0.        ],\n",
       "       [0.        , 0.        , 0.        , 0.        , 0.        ,\n",
       "        0.        , 0.        , 0.        , 0.        , 0.        ,\n",
       "        0.        , 0.        , 0.        , 0.        , 0.        ,\n",
       "        0.        , 0.        , 0.97647059, 0.99215686, 0.97647059,\n",
       "        0.25098039, 0.        , 0.        , 0.        , 0.        ,\n",
       "        0.        , 0.        , 0.        ],\n",
       "       [0.        , 0.        , 0.        , 0.        , 0.        ,\n",
       "        0.        , 0.        , 0.        , 0.        , 0.        ,\n",
       "        0.        , 0.        , 0.        , 0.        , 0.18039216,\n",
       "        0.50980392, 0.71764706, 0.99215686, 0.99215686, 0.81176471,\n",
       "        0.00784314, 0.        , 0.        , 0.        , 0.        ,\n",
       "        0.        , 0.        , 0.        ],\n",
       "       [0.        , 0.        , 0.        , 0.        , 0.        ,\n",
       "        0.        , 0.        , 0.        , 0.        , 0.        ,\n",
       "        0.        , 0.        , 0.15294118, 0.58039216, 0.89803922,\n",
       "        0.99215686, 0.99215686, 0.99215686, 0.98039216, 0.71372549,\n",
       "        0.        , 0.        , 0.        , 0.        , 0.        ,\n",
       "        0.        , 0.        , 0.        ],\n",
       "       [0.        , 0.        , 0.        , 0.        , 0.        ,\n",
       "        0.        , 0.        , 0.        , 0.        , 0.        ,\n",
       "        0.09411765, 0.44705882, 0.86666667, 0.99215686, 0.99215686,\n",
       "        0.99215686, 0.99215686, 0.78823529, 0.30588235, 0.        ,\n",
       "        0.        , 0.        , 0.        , 0.        , 0.        ,\n",
       "        0.        , 0.        , 0.        ],\n",
       "       [0.        , 0.        , 0.        , 0.        , 0.        ,\n",
       "        0.        , 0.        , 0.        , 0.09019608, 0.25882353,\n",
       "        0.83529412, 0.99215686, 0.99215686, 0.99215686, 0.99215686,\n",
       "        0.77647059, 0.31764706, 0.00784314, 0.        , 0.        ,\n",
       "        0.        , 0.        , 0.        , 0.        , 0.        ,\n",
       "        0.        , 0.        , 0.        ],\n",
       "       [0.        , 0.        , 0.        , 0.        , 0.        ,\n",
       "        0.        , 0.07058824, 0.67058824, 0.85882353, 0.99215686,\n",
       "        0.99215686, 0.99215686, 0.99215686, 0.76470588, 0.31372549,\n",
       "        0.03529412, 0.        , 0.        , 0.        , 0.        ,\n",
       "        0.        , 0.        , 0.        , 0.        , 0.        ,\n",
       "        0.        , 0.        , 0.        ],\n",
       "       [0.        , 0.        , 0.        , 0.        , 0.21568627,\n",
       "        0.6745098 , 0.88627451, 0.99215686, 0.99215686, 0.99215686,\n",
       "        0.99215686, 0.95686275, 0.52156863, 0.04313725, 0.        ,\n",
       "        0.        , 0.        , 0.        , 0.        , 0.        ,\n",
       "        0.        , 0.        , 0.        , 0.        , 0.        ,\n",
       "        0.        , 0.        , 0.        ],\n",
       "       [0.        , 0.        , 0.        , 0.        , 0.53333333,\n",
       "        0.99215686, 0.99215686, 0.99215686, 0.83137255, 0.52941176,\n",
       "        0.51764706, 0.0627451 , 0.        , 0.        , 0.        ,\n",
       "        0.        , 0.        , 0.        , 0.        , 0.        ,\n",
       "        0.        , 0.        , 0.        , 0.        , 0.        ,\n",
       "        0.        , 0.        , 0.        ],\n",
       "       [0.        , 0.        , 0.        , 0.        , 0.        ,\n",
       "        0.        , 0.        , 0.        , 0.        , 0.        ,\n",
       "        0.        , 0.        , 0.        , 0.        , 0.        ,\n",
       "        0.        , 0.        , 0.        , 0.        , 0.        ,\n",
       "        0.        , 0.        , 0.        , 0.        , 0.        ,\n",
       "        0.        , 0.        , 0.        ],\n",
       "       [0.        , 0.        , 0.        , 0.        , 0.        ,\n",
       "        0.        , 0.        , 0.        , 0.        , 0.        ,\n",
       "        0.        , 0.        , 0.        , 0.        , 0.        ,\n",
       "        0.        , 0.        , 0.        , 0.        , 0.        ,\n",
       "        0.        , 0.        , 0.        , 0.        , 0.        ,\n",
       "        0.        , 0.        , 0.        ],\n",
       "       [0.        , 0.        , 0.        , 0.        , 0.        ,\n",
       "        0.        , 0.        , 0.        , 0.        , 0.        ,\n",
       "        0.        , 0.        , 0.        , 0.        , 0.        ,\n",
       "        0.        , 0.        , 0.        , 0.        , 0.        ,\n",
       "        0.        , 0.        , 0.        , 0.        , 0.        ,\n",
       "        0.        , 0.        , 0.        ]])"
      ]
     },
     "execution_count": 24,
     "metadata": {},
     "output_type": "execute_result"
    }
   ],
   "source": [
    "x_train_n[0]"
   ]
  },
  {
   "cell_type": "code",
   "execution_count": 25,
   "id": "43fc881b",
   "metadata": {},
   "outputs": [
    {
     "data": {
      "text/plain": [
       "60000"
      ]
     },
     "execution_count": 25,
     "metadata": {},
     "output_type": "execute_result"
    }
   ],
   "source": [
    "len(x_train_n)"
   ]
  },
  {
   "cell_type": "code",
   "execution_count": 27,
   "id": "b45b58ec",
   "metadata": {},
   "outputs": [],
   "source": [
    "x_train,x_valid = x_train_n[:3000],x_train_n[3000:]\n",
    "y_train,y_valid = y_train_full[:3000],y_train_full[3000:]\n",
    "x_test = x_test_n"
   ]
  },
  {
   "cell_type": "code",
   "execution_count": 28,
   "id": "63379b87",
   "metadata": {},
   "outputs": [
    {
     "data": {
      "text/plain": [
       "array([[0.        , 0.        , 0.        , 0.        , 0.        ,\n",
       "        0.        , 0.        , 0.        , 0.        , 0.        ,\n",
       "        0.        , 0.        , 0.        , 0.        , 0.        ,\n",
       "        0.        , 0.        , 0.        , 0.        , 0.        ,\n",
       "        0.        , 0.        , 0.        , 0.        , 0.        ,\n",
       "        0.        , 0.        , 0.        ],\n",
       "       [0.        , 0.        , 0.        , 0.        , 0.        ,\n",
       "        0.        , 0.        , 0.        , 0.        , 0.        ,\n",
       "        0.        , 0.        , 0.        , 0.        , 0.        ,\n",
       "        0.        , 0.        , 0.        , 0.        , 0.        ,\n",
       "        0.        , 0.        , 0.        , 0.        , 0.        ,\n",
       "        0.        , 0.        , 0.        ],\n",
       "       [0.        , 0.        , 0.        , 0.        , 0.        ,\n",
       "        0.        , 0.        , 0.        , 0.        , 0.        ,\n",
       "        0.        , 0.        , 0.        , 0.        , 0.        ,\n",
       "        0.        , 0.        , 0.        , 0.        , 0.        ,\n",
       "        0.        , 0.        , 0.        , 0.        , 0.        ,\n",
       "        0.        , 0.        , 0.        ],\n",
       "       [0.        , 0.        , 0.        , 0.        , 0.        ,\n",
       "        0.        , 0.        , 0.        , 0.        , 0.        ,\n",
       "        0.        , 0.        , 0.        , 0.        , 0.        ,\n",
       "        0.        , 0.        , 0.        , 0.        , 0.        ,\n",
       "        0.        , 0.        , 0.        , 0.        , 0.        ,\n",
       "        0.        , 0.        , 0.        ],\n",
       "       [0.        , 0.        , 0.        , 0.        , 0.        ,\n",
       "        0.        , 0.        , 0.        , 0.        , 0.        ,\n",
       "        0.        , 0.        , 0.        , 0.        , 0.        ,\n",
       "        0.        , 0.        , 0.        , 0.        , 0.        ,\n",
       "        0.        , 0.        , 0.        , 0.        , 0.        ,\n",
       "        0.        , 0.        , 0.        ],\n",
       "       [0.        , 0.        , 0.        , 0.        , 0.        ,\n",
       "        0.        , 0.        , 0.        , 0.        , 0.        ,\n",
       "        0.        , 0.        , 0.        , 0.        , 0.        ,\n",
       "        0.        , 0.        , 0.        , 0.        , 0.        ,\n",
       "        0.        , 0.        , 0.        , 0.        , 0.        ,\n",
       "        0.        , 0.        , 0.        ],\n",
       "       [0.        , 0.        , 0.        , 0.        , 0.        ,\n",
       "        0.        , 0.        , 0.        , 0.        , 0.        ,\n",
       "        0.        , 0.        , 0.        , 0.09803922, 0.35686275,\n",
       "        0.68235294, 0.99607843, 0.99607843, 1.        , 0.99607843,\n",
       "        0.61176471, 0.10588235, 0.        , 0.        , 0.        ,\n",
       "        0.        , 0.        , 0.        ],\n",
       "       [0.        , 0.        , 0.        , 0.        , 0.        ,\n",
       "        0.        , 0.        , 0.        , 0.        , 0.        ,\n",
       "        0.        , 0.03529412, 0.32941176, 0.83137255, 0.99607843,\n",
       "        0.99607843, 0.87843137, 0.84705882, 0.84705882, 0.85882353,\n",
       "        0.99607843, 0.40392157, 0.        , 0.        , 0.        ,\n",
       "        0.        , 0.        , 0.        ],\n",
       "       [0.        , 0.        , 0.        , 0.        , 0.        ,\n",
       "        0.        , 0.        , 0.        , 0.        , 0.        ,\n",
       "        0.15294118, 0.6745098 , 0.99607843, 0.98039216, 0.63137255,\n",
       "        0.21960784, 0.05098039, 0.        , 0.        , 0.22745098,\n",
       "        0.99607843, 0.69019608, 0.        , 0.        , 0.        ,\n",
       "        0.        , 0.        , 0.        ],\n",
       "       [0.        , 0.        , 0.        , 0.        , 0.        ,\n",
       "        0.        , 0.        , 0.        , 0.        , 0.27058824,\n",
       "        0.89803922, 0.99607843, 0.85098039, 0.30588235, 0.        ,\n",
       "        0.        , 0.        , 0.        , 0.        , 0.69019608,\n",
       "        0.99607843, 0.41960784, 0.        , 0.        , 0.        ,\n",
       "        0.        , 0.        , 0.        ],\n",
       "       [0.        , 0.        , 0.        , 0.        , 0.        ,\n",
       "        0.        , 0.        , 0.        , 0.17254902, 0.91372549,\n",
       "        0.99607843, 0.51372549, 0.03921569, 0.        , 0.        ,\n",
       "        0.        , 0.        , 0.        , 0.        , 0.81176471,\n",
       "        0.80784314, 0.01568627, 0.        , 0.        , 0.        ,\n",
       "        0.        , 0.        , 0.        ],\n",
       "       [0.        , 0.        , 0.        , 0.        , 0.        ,\n",
       "        0.        , 0.        , 0.        , 0.71764706, 0.99607843,\n",
       "        0.72156863, 0.00784314, 0.        , 0.        , 0.        ,\n",
       "        0.        , 0.        , 0.        , 0.        , 0.64705882,\n",
       "        0.93333333, 0.49803922, 0.        , 0.        , 0.        ,\n",
       "        0.        , 0.        , 0.        ],\n",
       "       [0.        , 0.        , 0.        , 0.        , 0.        ,\n",
       "        0.        , 0.        , 0.33333333, 0.97254902, 0.96862745,\n",
       "        0.30588235, 0.        , 0.        , 0.        , 0.        ,\n",
       "        0.        , 0.        , 0.        , 0.        , 0.56470588,\n",
       "        0.99607843, 0.77254902, 0.        , 0.        , 0.        ,\n",
       "        0.        , 0.        , 0.        ],\n",
       "       [0.        , 0.        , 0.        , 0.        , 0.        ,\n",
       "        0.        , 0.01176471, 0.7372549 , 0.99607843, 0.48235294,\n",
       "        0.        , 0.        , 0.        , 0.        , 0.        ,\n",
       "        0.        , 0.        , 0.        , 0.4       , 0.98823529,\n",
       "        0.99607843, 0.3372549 , 0.        , 0.        , 0.        ,\n",
       "        0.        , 0.        , 0.        ],\n",
       "       [0.        , 0.        , 0.        , 0.        , 0.        ,\n",
       "        0.        , 0.52941176, 0.99607843, 0.65882353, 0.02745098,\n",
       "        0.        , 0.        , 0.        , 0.        , 0.        ,\n",
       "        0.        , 0.        , 0.03529412, 0.74117647, 0.99607843,\n",
       "        0.70980392, 0.00784314, 0.        , 0.        , 0.        ,\n",
       "        0.        , 0.        , 0.        ],\n",
       "       [0.        , 0.        , 0.        , 0.        , 0.        ,\n",
       "        0.        , 0.77647059, 0.99607843, 0.30588235, 0.        ,\n",
       "        0.        , 0.        , 0.        , 0.        , 0.        ,\n",
       "        0.        , 0.01568627, 0.69411765, 0.99607843, 0.99607843,\n",
       "        0.6627451 , 0.        , 0.        , 0.        , 0.        ,\n",
       "        0.        , 0.        , 0.        ],\n",
       "       [0.        , 0.        , 0.        , 0.        , 0.        ,\n",
       "        0.09411765, 0.91764706, 0.99607843, 0.0745098 , 0.        ,\n",
       "        0.        , 0.        , 0.        , 0.        , 0.        ,\n",
       "        0.03921569, 0.69803922, 0.99607843, 1.        , 0.99607843,\n",
       "        0.56862745, 0.        , 0.        , 0.        , 0.        ,\n",
       "        0.        , 0.        , 0.        ],\n",
       "       [0.        , 0.        , 0.        , 0.        , 0.        ,\n",
       "        0.0745098 , 0.88235294, 0.99607843, 0.48627451, 0.08235294,\n",
       "        0.        , 0.        , 0.01960784, 0.14901961, 0.51764706,\n",
       "        0.8627451 , 0.98823529, 0.6       , 0.95686275, 0.98431373,\n",
       "        0.25098039, 0.        , 0.        , 0.        , 0.        ,\n",
       "        0.        , 0.        , 0.        ],\n",
       "       [0.        , 0.        , 0.        , 0.        , 0.        ,\n",
       "        0.        , 0.4745098 , 0.98039216, 0.99607843, 0.89803922,\n",
       "        0.77647059, 0.77647059, 0.8       , 0.99607843, 0.99607843,\n",
       "        0.96078431, 0.37647059, 0.1372549 , 0.95294118, 0.76862745,\n",
       "        0.        , 0.        , 0.        , 0.        , 0.        ,\n",
       "        0.        , 0.        , 0.        ],\n",
       "       [0.        , 0.        , 0.        , 0.        , 0.        ,\n",
       "        0.        , 0.        , 0.33333333, 0.8627451 , 0.99607843,\n",
       "        0.99607843, 0.99607843, 0.74117647, 0.56078431, 0.33333333,\n",
       "        0.03921569, 0.        , 0.6627451 , 0.99607843, 0.54901961,\n",
       "        0.        , 0.        , 0.        , 0.        , 0.        ,\n",
       "        0.        , 0.        , 0.        ],\n",
       "       [0.        , 0.        , 0.        , 0.        , 0.        ,\n",
       "        0.        , 0.        , 0.        , 0.04313725, 0.07058824,\n",
       "        0.07058824, 0.07058824, 0.01176471, 0.        , 0.        ,\n",
       "        0.        , 0.02352941, 0.84705882, 0.99607843, 0.20784314,\n",
       "        0.        , 0.        , 0.        , 0.        , 0.        ,\n",
       "        0.        , 0.        , 0.        ],\n",
       "       [0.        , 0.        , 0.        , 0.        , 0.        ,\n",
       "        0.        , 0.        , 0.        , 0.        , 0.        ,\n",
       "        0.        , 0.        , 0.        , 0.        , 0.        ,\n",
       "        0.        , 0.34117647, 0.99607843, 0.84313725, 0.03529412,\n",
       "        0.        , 0.        , 0.        , 0.        , 0.        ,\n",
       "        0.        , 0.        , 0.        ],\n",
       "       [0.        , 0.        , 0.        , 0.        , 0.        ,\n",
       "        0.        , 0.        , 0.        , 0.        , 0.        ,\n",
       "        0.        , 0.        , 0.        , 0.        , 0.        ,\n",
       "        0.        , 0.66666667, 0.99607843, 0.54901961, 0.        ,\n",
       "        0.        , 0.        , 0.        , 0.        , 0.        ,\n",
       "        0.        , 0.        , 0.        ],\n",
       "       [0.        , 0.        , 0.        , 0.        , 0.        ,\n",
       "        0.        , 0.        , 0.        , 0.        , 0.        ,\n",
       "        0.        , 0.        , 0.        , 0.        , 0.        ,\n",
       "        0.        , 0.77647059, 0.99607843, 0.44313725, 0.        ,\n",
       "        0.        , 0.        , 0.        , 0.        , 0.        ,\n",
       "        0.        , 0.        , 0.        ],\n",
       "       [0.        , 0.        , 0.        , 0.        , 0.        ,\n",
       "        0.        , 0.        , 0.        , 0.        , 0.        ,\n",
       "        0.        , 0.        , 0.        , 0.        , 0.        ,\n",
       "        0.        , 0.77647059, 0.99607843, 0.44313725, 0.        ,\n",
       "        0.        , 0.        , 0.        , 0.        , 0.        ,\n",
       "        0.        , 0.        , 0.        ],\n",
       "       [0.        , 0.        , 0.        , 0.        , 0.        ,\n",
       "        0.        , 0.        , 0.        , 0.        , 0.        ,\n",
       "        0.        , 0.        , 0.        , 0.        , 0.        ,\n",
       "        0.        , 0.77647059, 0.99607843, 0.44313725, 0.        ,\n",
       "        0.        , 0.        , 0.        , 0.        , 0.        ,\n",
       "        0.        , 0.        , 0.        ],\n",
       "       [0.        , 0.        , 0.        , 0.        , 0.        ,\n",
       "        0.        , 0.        , 0.        , 0.        , 0.        ,\n",
       "        0.        , 0.        , 0.        , 0.        , 0.        ,\n",
       "        0.        , 0.        , 0.        , 0.        , 0.        ,\n",
       "        0.        , 0.        , 0.        , 0.        , 0.        ,\n",
       "        0.        , 0.        , 0.        ],\n",
       "       [0.        , 0.        , 0.        , 0.        , 0.        ,\n",
       "        0.        , 0.        , 0.        , 0.        , 0.        ,\n",
       "        0.        , 0.        , 0.        , 0.        , 0.        ,\n",
       "        0.        , 0.        , 0.        , 0.        , 0.        ,\n",
       "        0.        , 0.        , 0.        , 0.        , 0.        ,\n",
       "        0.        , 0.        , 0.        ]])"
      ]
     },
     "execution_count": 28,
     "metadata": {},
     "output_type": "execute_result"
    }
   ],
   "source": [
    "x_valid[0]"
   ]
  },
  {
   "cell_type": "code",
   "execution_count": 29,
   "id": "e176fe86",
   "metadata": {},
   "outputs": [],
   "source": [
    "import pandas as pd\n",
    "import numpy as np"
   ]
  },
  {
   "cell_type": "code",
   "execution_count": 30,
   "id": "e96620c1",
   "metadata": {},
   "outputs": [],
   "source": [
    "np.random.seed(42)\n",
    "tf.random.set_seed(42)"
   ]
  },
  {
   "cell_type": "code",
   "execution_count": 31,
   "id": "e42c9f27",
   "metadata": {},
   "outputs": [
    {
     "data": {
      "text/plain": [
       "(3000, 28, 28)"
      ]
     },
     "execution_count": 31,
     "metadata": {},
     "output_type": "execute_result"
    }
   ],
   "source": [
    "x_train.shape"
   ]
  },
  {
   "cell_type": "code",
   "execution_count": 32,
   "id": "fb887637",
   "metadata": {},
   "outputs": [],
   "source": [
    "model = keras.models.Sequential()"
   ]
  },
  {
   "cell_type": "code",
   "execution_count": 34,
   "id": "889d2205",
   "metadata": {},
   "outputs": [],
   "source": [
    "model.add(keras.layers.Flatten(input_shape = [28,28]))\n",
    "model.add(keras.layers.Dense(200, activation = \"relu\"))\n",
    "model.add(keras.layers.Dense(100, activation = \"relu\"))\n",
    "model.add(keras.layers.Dense(10, activation = \"softmax\"))"
   ]
  },
  {
   "cell_type": "code",
   "execution_count": 36,
   "id": "031a6bb2",
   "metadata": {},
   "outputs": [
    {
     "name": "stdout",
     "output_type": "stream",
     "text": [
      "Model: \"sequential\"\n",
      "_________________________________________________________________\n",
      "Layer (type)                 Output Shape              Param #   \n",
      "=================================================================\n",
      "flatten (Flatten)            (None, 784)               0         \n",
      "_________________________________________________________________\n",
      "dense (Dense)                (None, 200)               157000    \n",
      "_________________________________________________________________\n",
      "dense_1 (Dense)              (None, 100)               20100     \n",
      "_________________________________________________________________\n",
      "dense_2 (Dense)              (None, 10)                1010      \n",
      "=================================================================\n",
      "Total params: 178,110\n",
      "Trainable params: 178,110\n",
      "Non-trainable params: 0\n",
      "_________________________________________________________________\n"
     ]
    }
   ],
   "source": [
    "model.summary()"
   ]
  },
  {
   "cell_type": "code",
   "execution_count": 37,
   "id": "daf8edd8",
   "metadata": {},
   "outputs": [],
   "source": [
    "import pydot"
   ]
  },
  {
   "cell_type": "code",
   "execution_count": 38,
   "id": "7d6b4487",
   "metadata": {},
   "outputs": [
    {
     "data": {
      "image/png": "[encoded data removed]",
      "text/plain": [
       "<IPython.core.display.Image object>"
      ]
     },
     "execution_count": 38,
     "metadata": {},
     "output_type": "execute_result"
    }
   ],
   "source": [
    "keras.utils.plot_model(model)"
   ]
  },
  {
   "cell_type": "code",
   "execution_count": 39,
   "id": "66832944",
   "metadata": {},
   "outputs": [],
   "source": [
    "weights, biases = model.layers[1].get_weights()"
   ]
  },
  {
   "cell_type": "code",
   "execution_count": 40,
   "id": "7fe2c77a",
   "metadata": {},
   "outputs": [
    {
     "data": {
      "text/plain": [
       "(784, 200)"
      ]
     },
     "execution_count": 40,
     "metadata": {},
     "output_type": "execute_result"
    }
   ],
   "source": [
    "weights.shape"
   ]
  },
  {
   "cell_type": "code",
   "execution_count": 41,
   "id": "2128e763",
   "metadata": {},
   "outputs": [
    {
     "data": {
      "text/plain": [
       "(200,)"
      ]
     },
     "execution_count": 41,
     "metadata": {},
     "output_type": "execute_result"
    }
   ],
   "source": [
    "biases.shape"
   ]
  },
  {
   "cell_type": "code",
   "execution_count": 42,
   "id": "4e034146",
   "metadata": {},
   "outputs": [],
   "source": [
    "model.compile(loss = \"sparse_categorical_crossentropy\",optimizer = \"sgd\",metrics = [\"accuracy\"])"
   ]
  },
  {
   "cell_type": "code",
   "execution_count": 43,
   "id": "0f0c4677",
   "metadata": {},
   "outputs": [
    {
     "name": "stdout",
     "output_type": "stream",
     "text": [
      "Epoch 1/60\n",
      "94/94 [==============================] - 3s 29ms/step - loss: 2.1169 - accuracy: 0.3140 - val_loss: 1.8552 - val_accuracy: 0.5779\n",
      "Epoch 2/60\n",
      "94/94 [==============================] - 2s 22ms/step - loss: 1.5533 - accuracy: 0.6990 - val_loss: 1.3164 - val_accuracy: 0.7256\n",
      "Epoch 3/60\n",
      "94/94 [==============================] - 2s 16ms/step - loss: 1.0688 - accuracy: 0.7833 - val_loss: 0.9498 - val_accuracy: 0.7933\n",
      "Epoch 4/60\n",
      "94/94 [==============================] - 2s 17ms/step - loss: 0.7882 - accuracy: 0.8220 - val_loss: 0.7531 - val_accuracy: 0.8246\n",
      "Epoch 5/60\n",
      "94/94 [==============================] - 2s 21ms/step - loss: 0.6351 - accuracy: 0.8517 - val_loss: 0.6434 - val_accuracy: 0.8401\n",
      "Epoch 6/60\n",
      "94/94 [==============================] - 2s 18ms/step - loss: 0.5438 - accuracy: 0.8667 - val_loss: 0.5721 - val_accuracy: 0.8513\n",
      "Epoch 7/60\n",
      "94/94 [==============================] - 2s 18ms/step - loss: 0.4812 - accuracy: 0.8783 - val_loss: 0.5232 - val_accuracy: 0.8587\n",
      "Epoch 8/60\n",
      "94/94 [==============================] - 2s 19ms/step - loss: 0.4372 - accuracy: 0.8873 - val_loss: 0.4904 - val_accuracy: 0.8679\n",
      "Epoch 9/60\n",
      "94/94 [==============================] - 2s 18ms/step - loss: 0.4030 - accuracy: 0.8960 - val_loss: 0.4687 - val_accuracy: 0.8700\n",
      "Epoch 10/60\n",
      "94/94 [==============================] - 2s 19ms/step - loss: 0.3776 - accuracy: 0.9053 - val_loss: 0.4445 - val_accuracy: 0.8737\n",
      "Epoch 11/60\n",
      "94/94 [==============================] - 2s 25ms/step - loss: 0.3557 - accuracy: 0.9067 - val_loss: 0.4262 - val_accuracy: 0.8789\n",
      "Epoch 12/60\n",
      "94/94 [==============================] - 2s 21ms/step - loss: 0.3360 - accuracy: 0.9097 - val_loss: 0.4285 - val_accuracy: 0.8758\n",
      "Epoch 13/60\n",
      "94/94 [==============================] - 2s 20ms/step - loss: 0.3217 - accuracy: 0.9197 - val_loss: 0.4021 - val_accuracy: 0.8844\n",
      "Epoch 14/60\n",
      "94/94 [==============================] - 2s 19ms/step - loss: 0.3079 - accuracy: 0.9190 - val_loss: 0.3961 - val_accuracy: 0.8861\n",
      "Epoch 15/60\n",
      "94/94 [==============================] - 2s 20ms/step - loss: 0.2952 - accuracy: 0.9230 - val_loss: 0.3884 - val_accuracy: 0.8869\n",
      "Epoch 16/60\n",
      "94/94 [==============================] - 2s 20ms/step - loss: 0.2845 - accuracy: 0.9243 - val_loss: 0.3833 - val_accuracy: 0.8876\n",
      "Epoch 17/60\n",
      "94/94 [==============================] - 2s 20ms/step - loss: 0.2728 - accuracy: 0.9280 - val_loss: 0.3731 - val_accuracy: 0.8907\n",
      "Epoch 18/60\n",
      "94/94 [==============================] - 2s 20ms/step - loss: 0.2644 - accuracy: 0.9300 - val_loss: 0.3689 - val_accuracy: 0.8925\n",
      "Epoch 19/60\n",
      "94/94 [==============================] - 2s 24ms/step - loss: 0.2558 - accuracy: 0.9330 - val_loss: 0.3631 - val_accuracy: 0.8936\n",
      "Epoch 20/60\n",
      "94/94 [==============================] - 2s 22ms/step - loss: 0.2476 - accuracy: 0.9357 - val_loss: 0.3594 - val_accuracy: 0.8947\n",
      "Epoch 21/60\n",
      "94/94 [==============================] - 2s 21ms/step - loss: 0.2397 - accuracy: 0.9367 - val_loss: 0.3614 - val_accuracy: 0.8929\n",
      "Epoch 22/60\n",
      "94/94 [==============================] - 2s 21ms/step - loss: 0.2318 - accuracy: 0.9387 - val_loss: 0.3585 - val_accuracy: 0.8929\n",
      "Epoch 23/60\n",
      "94/94 [==============================] - 2s 23ms/step - loss: 0.2250 - accuracy: 0.9407 - val_loss: 0.3503 - val_accuracy: 0.8958\n",
      "Epoch 24/60\n",
      "94/94 [==============================] - 2s 20ms/step - loss: 0.2186 - accuracy: 0.9427 - val_loss: 0.3486 - val_accuracy: 0.8976\n",
      "Epoch 25/60\n",
      "94/94 [==============================] - 2s 21ms/step - loss: 0.2119 - accuracy: 0.9473 - val_loss: 0.3465 - val_accuracy: 0.8963\n",
      "Epoch 26/60\n",
      "94/94 [==============================] - 2s 21ms/step - loss: 0.2056 - accuracy: 0.9463 - val_loss: 0.3456 - val_accuracy: 0.8972\n",
      "Epoch 27/60\n",
      "94/94 [==============================] - 2s 25ms/step - loss: 0.2005 - accuracy: 0.9470 - val_loss: 0.3371 - val_accuracy: 0.9007\n",
      "Epoch 28/60\n",
      "94/94 [==============================] - 2s 22ms/step - loss: 0.1948 - accuracy: 0.9487 - val_loss: 0.3385 - val_accuracy: 0.8989\n",
      "Epoch 29/60\n",
      "94/94 [==============================] - 2s 21ms/step - loss: 0.1890 - accuracy: 0.9493 - val_loss: 0.3367 - val_accuracy: 0.9008\n",
      "Epoch 30/60\n",
      "94/94 [==============================] - 2s 21ms/step - loss: 0.1847 - accuracy: 0.9483 - val_loss: 0.3348 - val_accuracy: 0.9015\n",
      "Epoch 31/60\n",
      "94/94 [==============================] - 2s 24ms/step - loss: 0.1797 - accuracy: 0.9557 - val_loss: 0.3322 - val_accuracy: 0.9008\n",
      "Epoch 32/60\n",
      "94/94 [==============================] - 3s 29ms/step - loss: 0.1736 - accuracy: 0.9560 - val_loss: 0.3339 - val_accuracy: 0.8996\n",
      "Epoch 33/60\n",
      "94/94 [==============================] - 3s 27ms/step - loss: 0.1694 - accuracy: 0.9550 - val_loss: 0.3314 - val_accuracy: 0.9016\n",
      "Epoch 34/60\n",
      "94/94 [==============================] - 3s 29ms/step - loss: 0.1653 - accuracy: 0.9580 - val_loss: 0.3298 - val_accuracy: 0.9015\n",
      "Epoch 35/60\n",
      "94/94 [==============================] - 2s 24ms/step - loss: 0.1605 - accuracy: 0.9590 - val_loss: 0.3243 - val_accuracy: 0.9042\n",
      "Epoch 36/60\n",
      "94/94 [==============================] - 2s 25ms/step - loss: 0.1563 - accuracy: 0.9617 - val_loss: 0.3252 - val_accuracy: 0.9042\n",
      "Epoch 37/60\n",
      "94/94 [==============================] - 3s 28ms/step - loss: 0.1520 - accuracy: 0.9620 - val_loss: 0.3240 - val_accuracy: 0.9036\n",
      "Epoch 38/60\n",
      "94/94 [==============================] - 3s 27ms/step - loss: 0.1485 - accuracy: 0.9630 - val_loss: 0.3220 - val_accuracy: 0.9033\n",
      "Epoch 39/60\n",
      "94/94 [==============================] - 2s 25ms/step - loss: 0.1447 - accuracy: 0.9653 - val_loss: 0.3219 - val_accuracy: 0.9045\n",
      "Epoch 40/60\n",
      "94/94 [==============================] - 2s 26ms/step - loss: 0.1404 - accuracy: 0.9670 - val_loss: 0.3192 - val_accuracy: 0.9056\n",
      "Epoch 41/60\n",
      "94/94 [==============================] - 3s 27ms/step - loss: 0.1373 - accuracy: 0.9670 - val_loss: 0.3219 - val_accuracy: 0.9054\n",
      "Epoch 42/60\n",
      "94/94 [==============================] - 3s 28ms/step - loss: 0.1341 - accuracy: 0.9693 - val_loss: 0.3224 - val_accuracy: 0.9033\n",
      "Epoch 43/60\n",
      "94/94 [==============================] - 2s 26ms/step - loss: 0.1305 - accuracy: 0.9703 - val_loss: 0.3213 - val_accuracy: 0.9042\n",
      "Epoch 44/60\n",
      "94/94 [==============================] - 2s 25ms/step - loss: 0.1272 - accuracy: 0.9707 - val_loss: 0.3180 - val_accuracy: 0.9059\n",
      "Epoch 45/60\n",
      "94/94 [==============================] - 2s 27ms/step - loss: 0.1242 - accuracy: 0.9703 - val_loss: 0.3190 - val_accuracy: 0.9054\n",
      "Epoch 46/60\n",
      "94/94 [==============================] - 2s 26ms/step - loss: 0.1208 - accuracy: 0.9730 - val_loss: 0.3187 - val_accuracy: 0.9058\n",
      "Epoch 47/60\n",
      "94/94 [==============================] - 2s 26ms/step - loss: 0.1174 - accuracy: 0.9733 - val_loss: 0.3168 - val_accuracy: 0.9067\n",
      "Epoch 48/60\n",
      "94/94 [==============================] - 2s 27ms/step - loss: 0.1145 - accuracy: 0.9753 - val_loss: 0.3170 - val_accuracy: 0.9066\n",
      "Epoch 49/60\n",
      "94/94 [==============================] - 2s 24ms/step - loss: 0.1115 - accuracy: 0.9757 - val_loss: 0.3162 - val_accuracy: 0.9071\n",
      "Epoch 50/60\n",
      "94/94 [==============================] - 2s 21ms/step - loss: 0.1081 - accuracy: 0.9763 - val_loss: 0.3178 - val_accuracy: 0.9071\n",
      "Epoch 51/60\n",
      "94/94 [==============================] - 2s 21ms/step - loss: 0.1058 - accuracy: 0.9773 - val_loss: 0.3204 - val_accuracy: 0.9055\n",
      "Epoch 52/60\n",
      "94/94 [==============================] - 2s 21ms/step - loss: 0.1035 - accuracy: 0.9767 - val_loss: 0.3195 - val_accuracy: 0.9050\n",
      "Epoch 53/60\n",
      "94/94 [==============================] - 2s 21ms/step - loss: 0.1007 - accuracy: 0.9800 - val_loss: 0.3178 - val_accuracy: 0.9061\n",
      "Epoch 54/60\n",
      "94/94 [==============================] - 2s 25ms/step - loss: 0.0979 - accuracy: 0.9803 - val_loss: 0.3162 - val_accuracy: 0.9069\n",
      "Epoch 55/60\n",
      "94/94 [==============================] - 2s 22ms/step - loss: 0.0950 - accuracy: 0.9817 - val_loss: 0.3160 - val_accuracy: 0.9077\n",
      "Epoch 56/60\n",
      "94/94 [==============================] - 2s 21ms/step - loss: 0.0931 - accuracy: 0.9817 - val_loss: 0.3157 - val_accuracy: 0.9073\n",
      "Epoch 57/60\n",
      "94/94 [==============================] - 2s 21ms/step - loss: 0.0910 - accuracy: 0.9843 - val_loss: 0.3139 - val_accuracy: 0.9083\n",
      "Epoch 58/60\n",
      "94/94 [==============================] - 2s 21ms/step - loss: 0.0886 - accuracy: 0.9840 - val_loss: 0.3137 - val_accuracy: 0.9084\n"
     ]
    },
    {
     "name": "stdout",
     "output_type": "stream",
     "text": [
      "Epoch 59/60\n",
      "94/94 [==============================] - 2s 21ms/step - loss: 0.0856 - accuracy: 0.9860 - val_loss: 0.3207 - val_accuracy: 0.9064\n",
      "Epoch 60/60\n",
      "94/94 [==============================] - 2s 20ms/step - loss: 0.0843 - accuracy: 0.9857 - val_loss: 0.3180 - val_accuracy: 0.9078\n"
     ]
    }
   ],
   "source": [
    "model_history = model.fit(x_train,y_train, epochs = 60, validation_data=(x_valid,y_valid))"
   ]
  },
  {
   "cell_type": "code",
   "execution_count": 47,
   "id": "9be5da4e",
   "metadata": {},
   "outputs": [
    {
     "data": {
      "text/plain": [
       "{'verbose': 1, 'epochs': 60, 'steps': 94}"
      ]
     },
     "execution_count": 47,
     "metadata": {},
     "output_type": "execute_result"
    }
   ],
   "source": [
    "model_history.params"
   ]
  },
  {
   "cell_type": "code",
   "execution_count": 48,
   "id": "2b072aed",
   "metadata": {},
   "outputs": [
    {
     "data": {
      "text/plain": [
       "{'loss': [2.116884231567383,\n",
       "  1.5533291101455688,\n",
       "  1.0688132047653198,\n",
       "  0.7882130742073059,\n",
       "  0.6350640058517456,\n",
       "  0.5438304543495178,\n",
       "  0.4811927378177643,\n",
       "  0.43718042969703674,\n",
       "  0.40300607681274414,\n",
       "  0.37758371233940125,\n",
       "  0.3557310700416565,\n",
       "  0.3359537422657013,\n",
       "  0.3217465579509735,\n",
       "  0.30789560079574585,\n",
       "  0.29518285393714905,\n",
       "  0.28454074263572693,\n",
       "  0.27277490496635437,\n",
       "  0.2643858790397644,\n",
       "  0.25579336285591125,\n",
       "  0.2475607842206955,\n",
       "  0.23973535001277924,\n",
       "  0.23177878558635712,\n",
       "  0.22502067685127258,\n",
       "  0.2185962051153183,\n",
       "  0.2119409143924713,\n",
       "  0.205619215965271,\n",
       "  0.20054173469543457,\n",
       "  0.19481170177459717,\n",
       "  0.18901273608207703,\n",
       "  0.1846969872713089,\n",
       "  0.17967693507671356,\n",
       "  0.17356982827186584,\n",
       "  0.1693868786096573,\n",
       "  0.16531558334827423,\n",
       "  0.16047634184360504,\n",
       "  0.15632082521915436,\n",
       "  0.15199871361255646,\n",
       "  0.1484886109828949,\n",
       "  0.14466869831085205,\n",
       "  0.1403600573539734,\n",
       "  0.13729563355445862,\n",
       "  0.1340591013431549,\n",
       "  0.1305331140756607,\n",
       "  0.12721604108810425,\n",
       "  0.12416648119688034,\n",
       "  0.12080170959234238,\n",
       "  0.1174062117934227,\n",
       "  0.1145070418715477,\n",
       "  0.11154381185770035,\n",
       "  0.10812578350305557,\n",
       "  0.10580357164144516,\n",
       "  0.10354818403720856,\n",
       "  0.10071853548288345,\n",
       "  0.09793215245008469,\n",
       "  0.09502224624156952,\n",
       "  0.09311676025390625,\n",
       "  0.09098748117685318,\n",
       "  0.08862242847681046,\n",
       "  0.08555544912815094,\n",
       "  0.08427643030881882],\n",
       " 'accuracy': [0.3140000104904175,\n",
       "  0.6990000009536743,\n",
       "  0.7833333611488342,\n",
       "  0.8220000267028809,\n",
       "  0.8516666889190674,\n",
       "  0.8666666746139526,\n",
       "  0.878333330154419,\n",
       "  0.887333333492279,\n",
       "  0.8960000276565552,\n",
       "  0.9053333401679993,\n",
       "  0.9066666960716248,\n",
       "  0.9096666574478149,\n",
       "  0.9196666479110718,\n",
       "  0.9190000295639038,\n",
       "  0.9229999780654907,\n",
       "  0.9243333339691162,\n",
       "  0.9279999732971191,\n",
       "  0.9300000071525574,\n",
       "  0.9330000281333923,\n",
       "  0.9356666803359985,\n",
       "  0.9366666674613953,\n",
       "  0.9386666417121887,\n",
       "  0.940666675567627,\n",
       "  0.9426666498184204,\n",
       "  0.9473333358764648,\n",
       "  0.9463333487510681,\n",
       "  0.9470000267028809,\n",
       "  0.9486666917800903,\n",
       "  0.9493333101272583,\n",
       "  0.9483333230018616,\n",
       "  0.9556666612625122,\n",
       "  0.9559999704360962,\n",
       "  0.9549999833106995,\n",
       "  0.9580000042915344,\n",
       "  0.9589999914169312,\n",
       "  0.9616666436195374,\n",
       "  0.9620000123977661,\n",
       "  0.9629999995231628,\n",
       "  0.9653333425521851,\n",
       "  0.9670000076293945,\n",
       "  0.9670000076293945,\n",
       "  0.9693333506584167,\n",
       "  0.9703333377838135,\n",
       "  0.9706666469573975,\n",
       "  0.9703333377838135,\n",
       "  0.9729999899864197,\n",
       "  0.9733333587646484,\n",
       "  0.9753333330154419,\n",
       "  0.9756666421890259,\n",
       "  0.9763333201408386,\n",
       "  0.9773333072662354,\n",
       "  0.9766666889190674,\n",
       "  0.9800000190734863,\n",
       "  0.9803333282470703,\n",
       "  0.9816666841506958,\n",
       "  0.9816666841506958,\n",
       "  0.984333336353302,\n",
       "  0.984000027179718,\n",
       "  0.9860000014305115,\n",
       "  0.9856666922569275],\n",
       " 'val_loss': [1.8552378416061401,\n",
       "  1.316394567489624,\n",
       "  0.9498082399368286,\n",
       "  0.7530540823936462,\n",
       "  0.6433990001678467,\n",
       "  0.5721100568771362,\n",
       "  0.5231506824493408,\n",
       "  0.49039211869239807,\n",
       "  0.468650221824646,\n",
       "  0.4445289671421051,\n",
       "  0.4261827766895294,\n",
       "  0.428456574678421,\n",
       "  0.40213364362716675,\n",
       "  0.3960670530796051,\n",
       "  0.38843443989753723,\n",
       "  0.38333895802497864,\n",
       "  0.37312039732933044,\n",
       "  0.3688676953315735,\n",
       "  0.36308610439300537,\n",
       "  0.3594149053096771,\n",
       "  0.36141350865364075,\n",
       "  0.3584524691104889,\n",
       "  0.3502999544143677,\n",
       "  0.3485730290412903,\n",
       "  0.3465334177017212,\n",
       "  0.3455839157104492,\n",
       "  0.3371170163154602,\n",
       "  0.33849477767944336,\n",
       "  0.3366703689098358,\n",
       "  0.33475586771965027,\n",
       "  0.3321503698825836,\n",
       "  0.3339471220970154,\n",
       "  0.33143293857574463,\n",
       "  0.32983946800231934,\n",
       "  0.3243090808391571,\n",
       "  0.32523420453071594,\n",
       "  0.324017196893692,\n",
       "  0.32199543714523315,\n",
       "  0.32186582684516907,\n",
       "  0.31915125250816345,\n",
       "  0.32186442613601685,\n",
       "  0.3224382996559143,\n",
       "  0.32133445143699646,\n",
       "  0.31796637177467346,\n",
       "  0.3189978003501892,\n",
       "  0.3187189996242523,\n",
       "  0.31680500507354736,\n",
       "  0.31697025895118713,\n",
       "  0.31623369455337524,\n",
       "  0.31779032945632935,\n",
       "  0.3203659653663635,\n",
       "  0.319451242685318,\n",
       "  0.3177679181098938,\n",
       "  0.3161706030368805,\n",
       "  0.3159993588924408,\n",
       "  0.3156750202178955,\n",
       "  0.3139469027519226,\n",
       "  0.31374192237854004,\n",
       "  0.3207017481327057,\n",
       "  0.31800612807273865],\n",
       " 'val_accuracy': [0.57785964012146,\n",
       "  0.7256491184234619,\n",
       "  0.7932631373405457,\n",
       "  0.8245789408683777,\n",
       "  0.8401052355766296,\n",
       "  0.8513333201408386,\n",
       "  0.8586666584014893,\n",
       "  0.8679473400115967,\n",
       "  0.8699824810028076,\n",
       "  0.8737192749977112,\n",
       "  0.8788947463035583,\n",
       "  0.8757543563842773,\n",
       "  0.8843859434127808,\n",
       "  0.886070191860199,\n",
       "  0.886859655380249,\n",
       "  0.8876140117645264,\n",
       "  0.890666663646698,\n",
       "  0.8925263285636902,\n",
       "  0.8935964703559875,\n",
       "  0.8946666717529297,\n",
       "  0.8928596377372742,\n",
       "  0.8929473757743835,\n",
       "  0.8958421349525452,\n",
       "  0.8975614309310913,\n",
       "  0.8963158130645752,\n",
       "  0.8971929550170898,\n",
       "  0.9006842374801636,\n",
       "  0.8988772034645081,\n",
       "  0.9007719159126282,\n",
       "  0.9014561176300049,\n",
       "  0.9008245468139648,\n",
       "  0.8996140360832214,\n",
       "  0.9016140103340149,\n",
       "  0.9015438556671143,\n",
       "  0.9042280912399292,\n",
       "  0.9041929841041565,\n",
       "  0.9035614132881165,\n",
       "  0.9033157825469971,\n",
       "  0.9044561386108398,\n",
       "  0.9056140184402466,\n",
       "  0.9053859710693359,\n",
       "  0.9032806754112244,\n",
       "  0.9041578769683838,\n",
       "  0.9059298038482666,\n",
       "  0.9053508639335632,\n",
       "  0.9057894945144653,\n",
       "  0.9066666960716248,\n",
       "  0.906631588935852,\n",
       "  0.907122790813446,\n",
       "  0.9070701599121094,\n",
       "  0.9054912328720093,\n",
       "  0.9049999713897705,\n",
       "  0.9060876965522766,\n",
       "  0.9069298505783081,\n",
       "  0.9076666831970215,\n",
       "  0.9072982668876648,\n",
       "  0.9083157777786255,\n",
       "  0.9083508849143982,\n",
       "  0.9064034819602966,\n",
       "  0.9077543616294861]}"
      ]
     },
     "execution_count": 48,
     "metadata": {},
     "output_type": "execute_result"
    }
   ],
   "source": [
    "model_history.history"
   ]
  },
  {
   "cell_type": "code",
   "execution_count": 49,
   "id": "4c51024a",
   "metadata": {},
   "outputs": [
    {
     "name": "stdout",
     "output_type": "stream",
     "text": [
      "313/313 [==============================] - 0s 1ms/step - loss: 0.3032 - accuracy: 0.9126\n"
     ]
    },
    {
     "data": {
      "text/plain": [
       "[0.30316174030303955, 0.9125999808311462]"
      ]
     },
     "execution_count": 49,
     "metadata": {},
     "output_type": "execute_result"
    }
   ],
   "source": [
    "model.evaluate(x_test,y_test)"
   ]
  },
  {
   "cell_type": "code",
   "execution_count": 50,
   "id": "7a39021a",
   "metadata": {},
   "outputs": [],
   "source": [
    "x_new = x_test[:3]"
   ]
  },
  {
   "cell_type": "code",
   "execution_count": 51,
   "id": "8cf197f8",
   "metadata": {},
   "outputs": [
    {
     "data": {
      "text/plain": [
       "array([[0.  , 0.  , 0.  , 0.  , 0.  , 0.  , 0.  , 1.  , 0.  , 0.  ],\n",
       "       [0.  , 0.  , 0.88, 0.06, 0.  , 0.01, 0.04, 0.  , 0.01, 0.  ],\n",
       "       [0.  , 0.99, 0.  , 0.  , 0.  , 0.  , 0.  , 0.  , 0.  , 0.  ]],\n",
       "      dtype=float32)"
      ]
     },
     "execution_count": 51,
     "metadata": {},
     "output_type": "execute_result"
    }
   ],
   "source": [
    "y_prob = model.predict(x_new)\n",
    "y_prob.round(2)"
   ]
  },
  {
   "cell_type": "code",
   "execution_count": 53,
   "id": "3d9dcbb0",
   "metadata": {},
   "outputs": [
    {
     "data": {
      "text/plain": [
       "array([7, 2, 1], dtype=int64)"
      ]
     },
     "execution_count": 53,
     "metadata": {},
     "output_type": "execute_result"
    }
   ],
   "source": [
    "y_prob_new = model.predict_classes(x_new)\n",
    "y_prob_new"
   ]
  },
  {
   "cell_type": "code",
   "execution_count": 58,
   "id": "97d7ad34",
   "metadata": {},
   "outputs": [
    {
     "data": {
      "text/plain": [
       "<matplotlib.image.AxesImage at 0x1d2344ab3d0>"
      ]
     },
     "execution_count": 58,
     "metadata": {},
     "output_type": "execute_result"
    },
    {
     "data": {
      "image/png": "[encoded data removed]",
      "text/plain": [
       "<Figure size 432x288 with 1 Axes>"
      ]
     },
     "metadata": {
      "needs_background": "light"
     },
     "output_type": "display_data"
    }
   ],
   "source": [
    "plt.imshow(x_test[2])"
   ]
  },
  {
   "cell_type": "code",
   "execution_count": null,
   "id": "feac714f",
   "metadata": {},
   "outputs": [],
   "source": []
  }
 ],
 "metadata": {
  "kernelspec": {
   "display_name": "Python 3",
   "language": "python",
   "name": "python3"
  },
  "language_info": {
   "codemirror_mode": {
    "name": "ipython",
    "version": 3
   },
   "file_extension": ".py",
   "mimetype": "text/x-python",
   "name": "python",
   "nbconvert_exporter": "python",
   "pygments_lexer": "ipython3",
   "version": "3.8.8"
  }
 },
 "nbformat": 4,
 "nbformat_minor": 5
}
